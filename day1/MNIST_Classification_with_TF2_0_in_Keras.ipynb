{
  "nbformat": 4,
  "nbformat_minor": 0,
  "metadata": {
    "colab": {
      "name": "Copy of MNIST Classification with TF2.0 in Keras.ipynb",
      "provenance": [],
      "collapsed_sections": [],
      "include_colab_link": true
    },
    "kernelspec": {
      "name": "python3",
      "display_name": "Python 3"
    },
    "accelerator": "GPU"
  },
  "cells": [
    {
      "cell_type": "markdown",
      "metadata": {
        "id": "view-in-github",
        "colab_type": "text"
      },
      "source": [
        "<a href=\"https://colab.research.google.com/github/michelucci/oreilly-london-ai/blob/master/day1/MNIST_Classification_with_TF2_0_in_Keras.ipynb\" target=\"_parent\"><img src=\"https://colab.research.google.com/assets/colab-badge.svg\" alt=\"Open In Colab\"/></a>"
      ]
    },
    {
      "cell_type": "markdown",
      "metadata": {
        "id": "2-QOr6snaoyG",
        "colab_type": "text"
      },
      "source": [
        "# MNIST Classification with TF2.0 in Keras\n",
        "\n",
        "(C) 2019 Umberto Michelucci\n",
        "\n",
        "umberto.michelucci@toelt.ai\n",
        "\n",
        "www.toelt.ai"
      ]
    },
    {
      "cell_type": "code",
      "metadata": {
        "id": "ITsLS3NLel8O",
        "colab_type": "code",
        "outputId": "1a6c36bb-6391-4ff6-b207-0d09c9758014",
        "colab": {
          "base_uri": "https://localhost:8080/",
          "height": 649
        }
      },
      "source": [
        "!pip install tf-nightly # for GPU support"
      ],
      "execution_count": 12,
      "outputs": [
        {
          "output_type": "stream",
          "text": [
            "Collecting tf-nightly\n",
            "\u001b[?25l  Downloading https://files.pythonhosted.org/packages/ce/71/704e3d8f73e06fa4a1bfffd17aec89737bb5e0fa9ca2aa464c42f9422d62/tf_nightly-2.1.0.dev20191010-cp36-cp36m-manylinux2010_x86_64.whl (397.3MB)\n",
            "\u001b[K     |████████████████████████████████| 397.3MB 69kB/s \n",
            "\u001b[?25hRequirement already satisfied: keras-preprocessing>=1.0.5 in /usr/local/lib/python3.6/dist-packages (from tf-nightly) (1.1.0)\n",
            "Requirement already satisfied: protobuf>=3.6.1 in /usr/local/lib/python3.6/dist-packages (from tf-nightly) (3.7.1)\n",
            "Requirement already satisfied: google-pasta>=0.1.6 in /usr/local/lib/python3.6/dist-packages (from tf-nightly) (0.1.7)\n",
            "Requirement already satisfied: wrapt>=1.11.1 in /usr/local/lib/python3.6/dist-packages (from tf-nightly) (1.11.2)\n",
            "Requirement already satisfied: wheel>=0.26; python_version >= \"3\" in /usr/local/lib/python3.6/dist-packages (from tf-nightly) (0.33.6)\n",
            "Collecting tb-nightly<2.2.0a0,>=2.1.0a0 (from tf-nightly)\n",
            "\u001b[?25l  Downloading https://files.pythonhosted.org/packages/1d/3b/1479cccf0bdcdabc0e046eb761fdf413125cc1b5e83398e15ff00000f6ed/tb_nightly-2.1.0a20191010-py3-none-any.whl (3.8MB)\n",
            "\u001b[K     |████████████████████████████████| 3.8MB 41.3MB/s \n",
            "\u001b[?25hRequirement already satisfied: grpcio>=1.8.6 in /usr/local/lib/python3.6/dist-packages (from tf-nightly) (1.15.0)\n",
            "Requirement already satisfied: gast==0.2.2 in /usr/local/lib/python3.6/dist-packages (from tf-nightly) (0.2.2)\n",
            "Requirement already satisfied: opt-einsum>=2.3.2 in /usr/local/lib/python3.6/dist-packages (from tf-nightly) (3.1.0)\n",
            "Collecting tf-estimator-nightly (from tf-nightly)\n",
            "\u001b[?25l  Downloading https://files.pythonhosted.org/packages/8c/c0/f525d294adc3f5d3c6f922c5a302ac88a1710dcc0b4faf29a48679b5852f/tf_estimator_nightly-2.0.0.dev2019101101-py2.py3-none-any.whl (450kB)\n",
            "\u001b[K     |████████████████████████████████| 460kB 52.0MB/s \n",
            "\u001b[?25hRequirement already satisfied: six>=1.10.0 in /usr/local/lib/python3.6/dist-packages (from tf-nightly) (1.12.0)\n",
            "Requirement already satisfied: termcolor>=1.1.0 in /usr/local/lib/python3.6/dist-packages (from tf-nightly) (1.1.0)\n",
            "Requirement already satisfied: numpy<2.0,>=1.16.0 in /usr/local/lib/python3.6/dist-packages (from tf-nightly) (1.16.5)\n",
            "Requirement already satisfied: keras-applications>=1.0.8 in /usr/local/lib/python3.6/dist-packages (from tf-nightly) (1.0.8)\n",
            "Requirement already satisfied: absl-py>=0.7.0 in /usr/local/lib/python3.6/dist-packages (from tf-nightly) (0.8.0)\n",
            "Requirement already satisfied: astor>=0.6.0 in /usr/local/lib/python3.6/dist-packages (from tf-nightly) (0.8.0)\n",
            "Requirement already satisfied: setuptools in /usr/local/lib/python3.6/dist-packages (from protobuf>=3.6.1->tf-nightly) (41.2.0)\n",
            "Requirement already satisfied: markdown>=2.6.8 in /usr/local/lib/python3.6/dist-packages (from tb-nightly<2.2.0a0,>=2.1.0a0->tf-nightly) (3.1.1)\n",
            "Requirement already satisfied: werkzeug>=0.11.15 in /usr/local/lib/python3.6/dist-packages (from tb-nightly<2.2.0a0,>=2.1.0a0->tf-nightly) (0.16.0)\n",
            "Requirement already satisfied: h5py in /usr/local/lib/python3.6/dist-packages (from keras-applications>=1.0.8->tf-nightly) (2.8.0)\n",
            "Installing collected packages: tb-nightly, tf-estimator-nightly, tf-nightly\n",
            "Successfully installed tb-nightly-2.1.0a20191010 tf-estimator-nightly-2.0.0.dev2019101101 tf-nightly-2.1.0.dev20191010\n"
          ],
          "name": "stdout"
        },
        {
          "output_type": "display_data",
          "data": {
            "application/vnd.colab-display-data+json": {
              "pip_warning": {
                "packages": [
                  "tensorboard",
                  "tensorflow",
                  "tensorflow_core",
                  "tensorflow_estimator"
                ]
              }
            }
          },
          "metadata": {
            "tags": []
          }
        }
      ]
    },
    {
      "cell_type": "code",
      "metadata": {
        "id": "NF3FFGnsay71",
        "colab_type": "code",
        "colab": {}
      },
      "source": [
        "import tensorflow as tf\n",
        "import tensorflow.keras as keras\n",
        "import numpy as np\n",
        "import matplotlib.pyplot as plt\n",
        "plt.style.use('default')\n",
        "\n",
        "from google.colab import files\n",
        "\n",
        "import tensorflow_datasets as tfds"
      ],
      "execution_count": 0,
      "outputs": []
    },
    {
      "cell_type": "code",
      "metadata": {
        "id": "rKjedvIrezmb",
        "colab_type": "code",
        "outputId": "319eb986-d134-43f9-d889-33151117640b",
        "colab": {
          "base_uri": "https://localhost:8080/",
          "height": 35
        }
      },
      "source": [
        "print (tf.__version__)"
      ],
      "execution_count": 4,
      "outputs": [
        {
          "output_type": "stream",
          "text": [
            "2.1.0-dev20191010\n"
          ],
          "name": "stdout"
        }
      ]
    },
    {
      "cell_type": "markdown",
      "metadata": {
        "id": "Y0DCQWSNa1GQ",
        "colab_type": "text"
      },
      "source": [
        "let's load the MNIST dataset first"
      ]
    },
    {
      "cell_type": "code",
      "metadata": {
        "id": "OzTqLY7La4pV",
        "colab_type": "code",
        "colab": {}
      },
      "source": [
        "datasets, info = tfds.load(name = 'mnist', with_info = True, as_supervised = True)\n",
        "mnist_train, mnist_test = datasets['train'], datasets['test']"
      ],
      "execution_count": 0,
      "outputs": []
    },
    {
      "cell_type": "code",
      "metadata": {
        "id": "asM4dCLVi6FH",
        "colab_type": "code",
        "colab": {}
      },
      "source": [
        "def scale(image, label):\n",
        "  image = tf.cast(image, tf.float32)\n",
        "  image /= 255.0\n",
        "\n",
        "  return image, label"
      ],
      "execution_count": 0,
      "outputs": []
    },
    {
      "cell_type": "code",
      "metadata": {
        "id": "2xmEsjYEjG-I",
        "colab_type": "code",
        "colab": {}
      },
      "source": [
        "BUFFER_SIZE = 10000\n",
        "BATCH_SIZE = 64\n",
        "NUM_EPOCHS = 5"
      ],
      "execution_count": 0,
      "outputs": []
    },
    {
      "cell_type": "markdown",
      "metadata": {
        "id": "NP1-WsG5sigL",
        "colab_type": "text"
      },
      "source": [
        "Now let's convert our data in a dataset, to make our training easier."
      ]
    },
    {
      "cell_type": "code",
      "metadata": {
        "id": "y_ljtmksmTiV",
        "colab_type": "code",
        "colab": {}
      },
      "source": [
        "train_data = mnist_train.map(scale).shuffle(BUFFER_SIZE).batch(BATCH_SIZE)\n",
        "test_data = mnist_test.map(scale).batch(BATCH_SIZE)\n",
        "\n",
        "STEPS_PER_EPOCH = 50\n",
        "\n",
        "train_data = train_data.take(STEPS_PER_EPOCH)\n",
        "test_data = test_data.take(STEPS_PER_EPOCH)"
      ],
      "execution_count": 0,
      "outputs": []
    },
    {
      "cell_type": "code",
      "metadata": {
        "id": "uSI85WFDjNHi",
        "colab_type": "code",
        "colab": {}
      },
      "source": [
        "image_batch, label_batch = next(iter(train_data))"
      ],
      "execution_count": 0,
      "outputs": []
    },
    {
      "cell_type": "code",
      "metadata": {
        "id": "qLidKfPGkNZ3",
        "colab_type": "code",
        "outputId": "0f5c8284-3e7b-416d-959a-e6300c9279c0",
        "colab": {
          "base_uri": "https://localhost:8080/",
          "height": 35
        }
      },
      "source": [
        "print(image_batch.shape)"
      ],
      "execution_count": 10,
      "outputs": [
        {
          "output_type": "stream",
          "text": [
            "(64, 28, 28, 1)\n"
          ],
          "name": "stdout"
        }
      ]
    },
    {
      "cell_type": "markdown",
      "metadata": {
        "id": "RraNKhrMjes0",
        "colab_type": "text"
      },
      "source": [
        "## First version with `compile()` and `fit()`"
      ]
    },
    {
      "cell_type": "code",
      "metadata": {
        "id": "1v33qKC-cZRe",
        "colab_type": "code",
        "outputId": "7b45cbda-5d50-4294-8fee-fde29e2e8d26",
        "colab": {
          "base_uri": "https://localhost:8080/",
          "height": 215
        }
      },
      "source": [
        "mnist_model = tf.keras.Sequential([\n",
        "    tf.keras.layers.Conv2D(32, 3, activation='relu',\n",
        "                           kernel_regularizer=tf.keras.regularizers.l2(0.02),\n",
        "                           input_shape=(28, 28, 1)),\n",
        "    tf.keras.layers.MaxPooling2D(),\n",
        "    tf.keras.layers.Flatten(),\n",
        "    tf.keras.layers.Dropout(0.1),\n",
        "    tf.keras.layers.Dense(64, activation='relu'),\n",
        "    tf.keras.layers.BatchNormalization(),\n",
        "    tf.keras.layers.Dense(10, activation='softmax')\n",
        "])\n",
        "\n",
        "mnist_model.compile(optimizer='adam',\n",
        "              loss='sparse_categorical_crossentropy',\n",
        "              metrics=['accuracy'])\n",
        "\n",
        "mnist_model.fit(train_data, epochs=NUM_EPOCHS)\n",
        "loss, acc = mnist_model.evaluate(test_data)\n",
        "\n",
        "print(\"Loss {}, Accuracy {}\".format(loss, acc))"
      ],
      "execution_count": 14,
      "outputs": [
        {
          "output_type": "stream",
          "text": [
            "Epoch 1/5\n",
            "50/50 [==============================] - 6s 128ms/step - loss: 0.6006 - accuracy: 0.8372\n",
            "Epoch 2/5\n",
            "50/50 [==============================] - 3s 61ms/step - loss: 0.2662 - accuracy: 0.9378\n",
            "Epoch 3/5\n",
            "50/50 [==============================] - 3s 61ms/step - loss: 0.2057 - accuracy: 0.9566\n",
            "Epoch 4/5\n",
            "50/50 [==============================] - 3s 60ms/step - loss: 0.1583 - accuracy: 0.9678\n",
            "Epoch 5/5\n",
            "50/50 [==============================] - 3s 61ms/step - loss: 0.1306 - accuracy: 0.9722\n",
            "     50/Unknown - 1s 22ms/step - loss: 0.7178 - accuracy: 0.9609Loss 0.7178147268295288, Accuracy 0.9609375\n"
          ],
          "name": "stdout"
        }
      ]
    },
    {
      "cell_type": "markdown",
      "metadata": {
        "id": "t1Rjy7iYsnzc",
        "colab_type": "text"
      },
      "source": [
        "We can check the results for one single image easily with the dataset"
      ]
    },
    {
      "cell_type": "code",
      "metadata": {
        "id": "DHjspH-4huU8",
        "colab_type": "code",
        "colab": {}
      },
      "source": [
        "optimizer = tf.keras.optimizers.Adam(0.001) # 2.0 specific\n",
        "loss_history = []"
      ],
      "execution_count": 0,
      "outputs": []
    },
    {
      "cell_type": "markdown",
      "metadata": {
        "id": "nL2SyJsUk4xQ",
        "colab_type": "text"
      },
      "source": [
        "## Custom training loop"
      ]
    },
    {
      "cell_type": "code",
      "metadata": {
        "id": "1AGVjE2rh1P9",
        "colab_type": "code",
        "colab": {}
      },
      "source": [
        "mnist_model.compile(optimizer='adam',\n",
        "              loss='sparse_categorical_crossentropy',\n",
        "              metrics=['accuracy'])\n",
        "\n",
        "metrics_names = mnist_model.metrics_names"
      ],
      "execution_count": 0,
      "outputs": []
    },
    {
      "cell_type": "code",
      "metadata": {
        "id": "E2Jc8D1YoE0y",
        "colab_type": "code",
        "outputId": "b5599ec2-ad4e-48b4-8a7e-926a5312ac6c",
        "colab": {
          "base_uri": "https://localhost:8080/",
          "height": 35
        }
      },
      "source": [
        "print(metrics_names)"
      ],
      "execution_count": 18,
      "outputs": [
        {
          "output_type": "stream",
          "text": [
            "['loss', 'accuracy']\n"
          ],
          "name": "stdout"
        }
      ]
    },
    {
      "cell_type": "code",
      "metadata": {
        "id": "8QuNr-30ojO_",
        "colab_type": "code",
        "outputId": "14104cee-4121-4e2e-e005-0cd458de4fc9",
        "colab": {
          "base_uri": "https://localhost:8080/",
          "height": 197
        }
      },
      "source": [
        "%%timeit\n",
        "for epoch in range(NUM_EPOCHS):\n",
        "  #Reset the metric accumulators\n",
        "  mnist_model.reset_metrics()\n",
        "\n",
        "  for image_batch, label_batch in train_data:\n",
        "    result = mnist_model.train_on_batch(image_batch, label_batch)\n",
        "    #print(\"train: \",\n",
        "    #      \"{}: {:.3f}\".format(metrics_names[0], result[0]),\n",
        "    #      \"{}: {:.3f}\".format(metrics_names[1], result[1]))\n",
        "  for image_batch, label_batch in test_data:\n",
        "    result = mnist_model.test_on_batch(image_batch, label_batch,\n",
        "                                 # return accumulated metrics\n",
        "                                 reset_metrics=False)\n",
        "  print(\"\\neval: \",\n",
        "        \"{}: {:.3f}\".format(metrics_names[0], result[0]),\n",
        "        \"{}: {:.3f}\".format(metrics_names[1], result[1]))\n"
      ],
      "execution_count": 0,
      "outputs": [
        {
          "output_type": "stream",
          "text": [
            "\n",
            "eval:  loss: 0.195 accuracy: 0.964\n",
            "\n",
            "eval:  loss: 0.106 accuracy: 0.969\n",
            "\n",
            "eval:  loss: 0.089 accuracy: 0.962\n",
            "\n",
            "eval:  loss: 0.076 accuracy: 0.967\n",
            "\n",
            "eval:  loss: 0.071 accuracy: 0.965\n"
          ],
          "name": "stdout"
        }
      ]
    },
    {
      "cell_type": "markdown",
      "metadata": {
        "id": "2EfpfVE7zgXl",
        "colab_type": "text"
      },
      "source": [
        "We can now recheck one single image to see if we perform better than before training."
      ]
    },
    {
      "cell_type": "markdown",
      "metadata": {
        "id": "VCT87uI_yK9_",
        "colab_type": "text"
      },
      "source": [
        "# MNIST with GPU acceleration"
      ]
    },
    {
      "cell_type": "code",
      "metadata": {
        "id": "4_kB48r1hqnt",
        "colab_type": "code",
        "outputId": "4a21fba4-ab86-4e93-a858-ea7389e5cca8",
        "colab": {
          "base_uri": "https://localhost:8080/",
          "height": 163
        }
      },
      "source": [
        "print(tf.test.is_gpu_available())"
      ],
      "execution_count": 11,
      "outputs": [
        {
          "output_type": "stream",
          "text": [
            "WARNING:tensorflow:From <ipython-input-11-ae932be897c3>:1: is_gpu_available (from tensorflow.python.framework.test_util) is deprecated and will be removed in a future version.\n",
            "Instructions for updating:\n",
            "Use `tf.config.experimental.list_physical_devices('GPU')` instead.\n"
          ],
          "name": "stdout"
        },
        {
          "output_type": "stream",
          "text": [
            "WARNING:tensorflow:From <ipython-input-11-ae932be897c3>:1: is_gpu_available (from tensorflow.python.framework.test_util) is deprecated and will be removed in a future version.\n",
            "Instructions for updating:\n",
            "Use `tf.config.experimental.list_physical_devices('GPU')` instead.\n"
          ],
          "name": "stderr"
        },
        {
          "output_type": "stream",
          "text": [
            "True\n"
          ],
          "name": "stdout"
        }
      ]
    },
    {
      "cell_type": "code",
      "metadata": {
        "id": "x6TxlcyLiOTG",
        "colab_type": "code",
        "outputId": "a75d71d2-5799-4b48-a5e1-39b2653b78f7",
        "colab": {
          "base_uri": "https://localhost:8080/",
          "height": 35
        }
      },
      "source": [
        "device_name = tf.test.gpu_device_name()\n",
        "if device_name != '/device:GPU:0':\n",
        "  raise SystemError('GPU device not found. Check the notebook settings.')\n",
        "print('Found GPU at: {}'.format(device_name))"
      ],
      "execution_count": 12,
      "outputs": [
        {
          "output_type": "stream",
          "text": [
            "Found GPU at: /device:GPU:0\n"
          ],
          "name": "stdout"
        }
      ]
    },
    {
      "cell_type": "markdown",
      "metadata": {
        "id": "Tiipq2RfuKdH",
        "colab_type": "text"
      },
      "source": [
        "The following code have tensorflow operations that are placed on a GPU. At the moment the argmax has a bug and therefore has been placed on a CPU. A GPU make the code much faster than when using only a CPU (check above for the CPU only version)"
      ]
    },
    {
      "cell_type": "code",
      "metadata": {
        "id": "nj1DQ1q8F8Tu",
        "colab_type": "code",
        "colab": {
          "base_uri": "https://localhost:8080/",
          "height": 233
        },
        "outputId": "1af35a74-7d7f-45c1-8a2c-bbda7ae1da16"
      },
      "source": [
        "%%time\n",
        "for epoch in range(NUM_EPOCHS):\n",
        "  #Reset the metric accumulators\n",
        "  mnist_model.reset_metrics()\n",
        "\n",
        "  for image_batch, label_batch in train_data:\n",
        "    with tf.device('/gpu:0'):    \n",
        "      result = mnist_model.train_on_batch(image_batch, label_batch)\n",
        "    #print(\"train: \",\n",
        "    #      \"{}: {:.3f}\".format(metrics_names[0], result[0]),\n",
        "    #      \"{}: {:.3f}\".format(metrics_names[1], result[1]))\n",
        "  for image_batch, label_batch in test_data:\n",
        "    with tf.device('/gpu:0'):  \n",
        "      result = mnist_model.test_on_batch(image_batch, label_batch,\n",
        "                                 # return accumulated metrics\n",
        "                                 reset_metrics=False)\n",
        "  print(\"\\neval: \",\n",
        "        \"{}: {:.3f}\".format(metrics_names[0], result[0]),\n",
        "        \"{}: {:.3f}\".format(metrics_names[1], result[1]))\n"
      ],
      "execution_count": 21,
      "outputs": [
        {
          "output_type": "stream",
          "text": [
            "\n",
            "eval:  loss: 0.069 accuracy: 0.974\n",
            "\n",
            "eval:  loss: 0.109 accuracy: 0.973\n",
            "\n",
            "eval:  loss: 0.020 accuracy: 0.972\n",
            "\n",
            "eval:  loss: 0.061 accuracy: 0.968\n",
            "\n",
            "eval:  loss: 0.031 accuracy: 0.971\n",
            "CPU times: user 38.1 s, sys: 8.11 s, total: 46.2 s\n",
            "Wall time: 27.6 s\n"
          ],
          "name": "stdout"
        }
      ]
    },
    {
      "cell_type": "code",
      "metadata": {
        "id": "aSz-0_EVhma7",
        "colab_type": "code",
        "outputId": "3e521034-d49d-4a2a-f342-1230e34581b4",
        "colab": {
          "base_uri": "https://localhost:8080/",
          "height": 233
        }
      },
      "source": [
        "%%time\n",
        "for epoch in range(NUM_EPOCHS):\n",
        "  #Reset the metric accumulators\n",
        "  mnist_model.reset_metrics()\n",
        "\n",
        "  for image_batch, label_batch in train_data:\n",
        "    with tf.device('/cpu:0'):    \n",
        "      result = mnist_model.train_on_batch(image_batch, label_batch)\n",
        "    #print(\"train: \",\n",
        "    #      \"{}: {:.3f}\".format(metrics_names[0], result[0]),\n",
        "    #      \"{}: {:.3f}\".format(metrics_names[1], result[1]))\n",
        "  for image_batch, label_batch in test_data:\n",
        "    with tf.device('/cpu:0'):  \n",
        "      result = mnist_model.test_on_batch(image_batch, label_batch,\n",
        "                                 # return accumulated metrics\n",
        "                                 reset_metrics=False)\n",
        "  print(\"\\neval: \",\n",
        "        \"{}: {:.3f}\".format(metrics_names[0], result[0]),\n",
        "        \"{}: {:.3f}\".format(metrics_names[1], result[1]))\n"
      ],
      "execution_count": 23,
      "outputs": [
        {
          "output_type": "stream",
          "text": [
            "\n",
            "eval:  loss: 0.037 accuracy: 0.974\n",
            "\n",
            "eval:  loss: 0.045 accuracy: 0.976\n",
            "\n",
            "eval:  loss: 0.030 accuracy: 0.971\n",
            "\n",
            "eval:  loss: 0.056 accuracy: 0.967\n",
            "\n",
            "eval:  loss: 0.095 accuracy: 0.972\n",
            "CPU times: user 58.1 s, sys: 8.77 s, total: 1min 6s\n",
            "Wall time: 40.1 s\n"
          ],
          "name": "stdout"
        }
      ]
    },
    {
      "cell_type": "markdown",
      "metadata": {
        "id": "wsp4lvlKl9Oc",
        "colab_type": "text"
      },
      "source": [
        "## Custom training loops with gradients"
      ]
    },
    {
      "cell_type": "code",
      "metadata": {
        "id": "Bmso3U35mBQm",
        "colab_type": "code",
        "outputId": "fa26ad29-b7ef-48e2-a30b-3cdbe2be7d6b",
        "colab": {
          "base_uri": "https://localhost:8080/",
          "height": 287
        }
      },
      "source": [
        "# Create the metrics\n",
        "loss_metric = tf.keras.metrics.Mean(name='train_loss')\n",
        "accuracy_metric = tf.keras.metrics.SparseCategoricalAccuracy(name='train_accuracy')\n",
        "\n",
        "mnist_model = tf.keras.Sequential([\n",
        "    tf.keras.layers.Conv2D(32, 3, activation='relu',\n",
        "                           kernel_regularizer=tf.keras.regularizers.l2(0.02),\n",
        "                           input_shape=(28, 28, 1)),\n",
        "    tf.keras.layers.MaxPooling2D(),\n",
        "    tf.keras.layers.Flatten(),\n",
        "    tf.keras.layers.Dropout(0.1),\n",
        "    tf.keras.layers.Dense(64, activation='relu'),\n",
        "    tf.keras.layers.BatchNormalization(),\n",
        "    tf.keras.layers.Dense(10, activation='softmax')\n",
        "])\n",
        "\n",
        "optimizer = tf.keras.optimizers.Adam(0.001)\n",
        "loss_fn = tf.keras.losses.SparseCategoricalCrossentropy()\n",
        "\n",
        "@tf.function\n",
        "def train_step(inputs, labels):\n",
        "  with tf.GradientTape() as tape:\n",
        "    predictions = mnist_model(inputs, training=True)\n",
        "    regularization_loss = tf.math.add_n(mnist_model.losses)\n",
        "    pred_loss = loss_fn(labels, predictions)\n",
        "    total_loss = pred_loss + regularization_loss\n",
        "\n",
        "  gradients = tape.gradient(total_loss, mnist_model.trainable_variables)\n",
        "  optimizer.apply_gradients(zip(gradients, mnist_model.trainable_variables))\n",
        "\n",
        "  # Update the metrics\n",
        "  loss_metric.update_state(total_loss)\n",
        "  accuracy_metric.update_state(labels, predictions)\n",
        "\n",
        "for epoch in range(NUM_EPOCHS):\n",
        "  loss_metric.reset_states()\n",
        "  accuracy_metric.reset_states()\n",
        "\n",
        "  for inputs, labels in train_data:\n",
        "    train_step(inputs, labels)\n",
        "  \n",
        "  mean_loss = loss_metric.result()\n",
        "  mean_accuracy = accuracy_metric.result()\n",
        "\n",
        "  print('Epoch: ', epoch)\n",
        "  print('  loss:     {:.3f}'.format(mean_loss))\n",
        "  print('  accuracy: {:.3f}'.format(mean_accuracy))"
      ],
      "execution_count": 0,
      "outputs": [
        {
          "output_type": "stream",
          "text": [
            "Epoch:  0\n",
            "  loss:     0.622\n",
            "  accuracy: 0.831\n",
            "Epoch:  1\n",
            "  loss:     0.266\n",
            "  accuracy: 0.943\n",
            "Epoch:  2\n",
            "  loss:     0.198\n",
            "  accuracy: 0.957\n",
            "Epoch:  3\n",
            "  loss:     0.151\n",
            "  accuracy: 0.973\n",
            "Epoch:  4\n",
            "  loss:     0.125\n",
            "  accuracy: 0.977\n"
          ],
          "name": "stdout"
        }
      ]
    },
    {
      "cell_type": "code",
      "metadata": {
        "id": "ghus5gOGmUOU",
        "colab_type": "code",
        "colab": {}
      },
      "source": [
        ""
      ],
      "execution_count": 0,
      "outputs": []
    }
  ]
}