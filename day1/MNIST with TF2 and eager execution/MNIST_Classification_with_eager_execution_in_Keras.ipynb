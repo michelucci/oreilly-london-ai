{
  "nbformat": 4,
  "nbformat_minor": 0,
  "metadata": {
    "colab": {
      "name": "MNIST Classification with eager execution in Keras.ipynb",
      "provenance": [],
      "collapsed_sections": [],
      "include_colab_link": true
    },
    "kernelspec": {
      "name": "python3",
      "display_name": "Python 3"
    },
    "accelerator": "GPU"
  },
  "cells": [
    {
      "cell_type": "markdown",
      "metadata": {
        "id": "view-in-github",
        "colab_type": "text"
      },
      "source": [
        "<a href=\"https://colab.research.google.com/github/michelucci/oreilly-london-ai/blob/master/day1/MNIST_Classification_with_eager_execution_in_Keras.ipynb\" target=\"_parent\"><img src=\"https://colab.research.google.com/assets/colab-badge.svg\" alt=\"Open In Colab\"/></a>"
      ]
    },
    {
      "cell_type": "markdown",
      "metadata": {
        "id": "2-QOr6snaoyG",
        "colab_type": "text"
      },
      "source": [
        "# MNIST Classification with eager execution in Keras\n",
        "\n",
        "(C) 2019 Umberto Michelucci\n",
        "\n",
        "umberto.michelucci@toelt.ai\n",
        "\n",
        "www.toelt.ai"
      ]
    },
    {
      "cell_type": "code",
      "metadata": {
        "id": "NF3FFGnsay71",
        "colab_type": "code",
        "outputId": "95e2a7fd-a64b-449a-d331-6973f52d7b79",
        "colab": {
          "base_uri": "https://localhost:8080/",
          "height": 179
        }
      },
      "source": [
        "import tensorflow as tf\n",
        "import keras\n",
        "import numpy as np\n",
        "import matplotlib.pyplot as plt\n",
        "plt.style.use('default')\n",
        "\n",
        "import tensorflow.contrib.eager as tfe\n",
        "\n",
        "from google.colab import files\n",
        "\n",
        "tf.enable_eager_execution()"
      ],
      "execution_count": 1,
      "outputs": [
        {
          "output_type": "stream",
          "text": [
            "Using TensorFlow backend.\n"
          ],
          "name": "stderr"
        },
        {
          "output_type": "stream",
          "text": [
            "WARNING:tensorflow:\n",
            "The TensorFlow contrib module will not be included in TensorFlow 2.0.\n",
            "For more information, please see:\n",
            "  * https://github.com/tensorflow/community/blob/master/rfcs/20180907-contrib-sunset.md\n",
            "  * https://github.com/tensorflow/addons\n",
            "  * https://github.com/tensorflow/io (for I/O related ops)\n",
            "If you depend on functionality not listed there, please file an issue.\n",
            "\n"
          ],
          "name": "stdout"
        }
      ]
    },
    {
      "cell_type": "markdown",
      "metadata": {
        "id": "Y0DCQWSNa1GQ",
        "colab_type": "text"
      },
      "source": [
        "let's load the MNIST dataset first"
      ]
    },
    {
      "cell_type": "code",
      "metadata": {
        "id": "OzTqLY7La4pV",
        "colab_type": "code",
        "outputId": "f205c1ac-9fe3-4551-e05a-8d74f885482d",
        "colab": {
          "base_uri": "https://localhost:8080/",
          "height": 53
        }
      },
      "source": [
        "num_classes = 10\n",
        "\n",
        "mnist = tf.keras.datasets.mnist\n",
        "(x_train, y_train), (x_test, y_test) = mnist.load_data()\n",
        "\n",
        "image_vector_size = 28*28\n",
        "x_train = x_train.reshape(x_train.shape[0], image_vector_size)\n",
        "x_test = x_test.reshape(x_test.shape[0], image_vector_size)\n",
        "\n",
        "y_train = keras.utils.to_categorical(y_train, num_classes)\n",
        "y_test = keras.utils.to_categorical(y_test, num_classes)"
      ],
      "execution_count": 2,
      "outputs": [
        {
          "output_type": "stream",
          "text": [
            "Downloading data from https://storage.googleapis.com/tensorflow/tf-keras-datasets/mnist.npz\n",
            "11493376/11490434 [==============================] - 0s 0us/step\n"
          ],
          "name": "stdout"
        }
      ]
    },
    {
      "cell_type": "markdown",
      "metadata": {
        "id": "NP1-WsG5sigL",
        "colab_type": "text"
      },
      "source": [
        "Now let's convert our data in a dataset, to make our training easier."
      ]
    },
    {
      "cell_type": "code",
      "metadata": {
        "id": "y_ljtmksmTiV",
        "colab_type": "code",
        "colab": {}
      },
      "source": [
        "dataset = tf.data.Dataset.from_tensor_slices(\n",
        "    (tf.cast(x_train/255.0, tf.float32),\n",
        "     tf.cast(y_train,tf.int64)))\n",
        "\n",
        "dataset = dataset.shuffle(60000).batch(64)"
      ],
      "execution_count": 0,
      "outputs": []
    },
    {
      "cell_type": "code",
      "metadata": {
        "id": "1v33qKC-cZRe",
        "colab_type": "code",
        "colab": {}
      },
      "source": [
        "mnist_model = tf.keras.Sequential([\n",
        "  tf.keras.layers.Dense(1024, input_shape=(784,)),  # must declare input shape\n",
        "  tf.keras.layers.Dense(1024),  # must declare input shape\n",
        "  tf.keras.layers.Dense(10)\n",
        "])"
      ],
      "execution_count": 0,
      "outputs": []
    },
    {
      "cell_type": "markdown",
      "metadata": {
        "id": "t1Rjy7iYsnzc",
        "colab_type": "text"
      },
      "source": [
        "We can check the results for one single image easily with the dataset"
      ]
    },
    {
      "cell_type": "code",
      "metadata": {
        "id": "A7uQ1AZNjQH4",
        "colab_type": "code",
        "outputId": "980f0d89-0073-45af-9ca5-629e4823ef94",
        "colab": {
          "base_uri": "https://localhost:8080/",
          "height": 125
        }
      },
      "source": [
        "for image,labels in dataset.take(1):\n",
        "  print(image.shape)\n",
        "  print(labels[0:1])\n",
        "  print(\"Logits: \", mnist_model(image[0:1]).numpy())\n",
        "  print('label ',tf.argmax(labels[0:1], axis = 1)) \n",
        "  # Check how, since we are using eager execution\n",
        "  # we don't need a session to evaluate the node\n",
        "  print(tf.argmax(tf.nn.softmax(mnist_model(image[0:1])), axis = 1))\n",
        "  # Of course the prediction are not right, since we have not yet\n",
        "  # trianed the model."
      ],
      "execution_count": 5,
      "outputs": [
        {
          "output_type": "stream",
          "text": [
            "(64, 784)\n",
            "tf.Tensor([[0 0 0 0 0 0 0 0 0 1]], shape=(1, 10), dtype=int64)\n",
            "Logits:  [[-0.07571369  0.42217183 -0.0248108  -0.48363817  0.20608075  0.12230226\n",
            "   0.8848293  -0.2542535  -0.28345734 -0.40715685]]\n",
            "label  tf.Tensor([9], shape=(1,), dtype=int64)\n",
            "tf.Tensor([6], shape=(1,), dtype=int64)\n"
          ],
          "name": "stdout"
        }
      ]
    },
    {
      "cell_type": "code",
      "metadata": {
        "id": "DHjspH-4huU8",
        "colab_type": "code",
        "colab": {}
      },
      "source": [
        "optimizer = tf.train.AdamOptimizer()\n",
        "loss_history = []"
      ],
      "execution_count": 0,
      "outputs": []
    },
    {
      "cell_type": "code",
      "metadata": {
        "id": "1AGVjE2rh1P9",
        "colab_type": "code",
        "outputId": "bffc05cd-5e0b-4386-9b5a-bb4e304a90a4",
        "colab": {
          "base_uri": "https://localhost:8080/",
          "height": 413
        }
      },
      "source": [
        "%%time\n",
        "with tf.device('/cpu:0'):\n",
        "  for i in range(10): # Loop for the Epochs\n",
        "    print (\"\\nEpoch:\", i)\n",
        "    for (batch, (images, labels)) in enumerate(dataset.take(60000)): # Loop for the mini-batches\n",
        "      if batch % 100 == 0:\n",
        "        print('.', end='')\n",
        "      with tf.GradientTape() as tape:\n",
        "        logits = mnist_model(images, training=True)\n",
        "        loss_value = tf.losses.sparse_softmax_cross_entropy(tf.argmax(labels, axis = 1), logits)\n",
        "\n",
        "        loss_history.append(loss_value.numpy())\n",
        "        grads = tape.gradient(loss_value, mnist_model.variables)\n",
        "        optimizer.apply_gradients(zip(grads, mnist_model.variables),\n",
        "                                  global_step=tf.train.get_or_create_global_step())"
      ],
      "execution_count": 7,
      "outputs": [
        {
          "output_type": "stream",
          "text": [
            "\n",
            "Epoch: 0\n",
            "..........\n",
            "Epoch: 1\n",
            "..........\n",
            "Epoch: 2\n",
            "..........\n",
            "Epoch: 3\n",
            "..........\n",
            "Epoch: 4\n",
            "..........\n",
            "Epoch: 5\n",
            "..........\n",
            "Epoch: 6\n",
            "..........\n",
            "Epoch: 7\n",
            "..........\n",
            "Epoch: 8\n",
            "..........\n",
            "Epoch: 9\n",
            "..........CPU times: user 7min 55s, sys: 1min 15s, total: 9min 11s\n",
            "Wall time: 7min 14s\n"
          ],
          "name": "stdout"
        }
      ]
    },
    {
      "cell_type": "code",
      "metadata": {
        "id": "E2Jc8D1YoE0y",
        "colab_type": "code",
        "colab": {}
      },
      "source": [
        "probs = tf.nn.softmax(mnist_model(x_train))"
      ],
      "execution_count": 0,
      "outputs": []
    },
    {
      "cell_type": "code",
      "metadata": {
        "id": "8QuNr-30ojO_",
        "colab_type": "code",
        "outputId": "a1e077e5-6b04-4fc7-c62b-554bfc77ad47",
        "colab": {
          "base_uri": "https://localhost:8080/",
          "height": 35
        }
      },
      "source": [
        "print(tf.reduce_mean(tf.cast(tf.equal(tf.argmax(probs, axis=1), tf.argmax(y_train, axis = 1)), tf.float32)))"
      ],
      "execution_count": 9,
      "outputs": [
        {
          "output_type": "stream",
          "text": [
            "tf.Tensor(0.88098335, shape=(), dtype=float32)\n"
          ],
          "name": "stdout"
        }
      ]
    },
    {
      "cell_type": "markdown",
      "metadata": {
        "id": "2EfpfVE7zgXl",
        "colab_type": "text"
      },
      "source": [
        "We can now recheck one single image to see if we perform better than before training."
      ]
    },
    {
      "cell_type": "code",
      "metadata": {
        "id": "N-5hSK3K16P0",
        "colab_type": "code",
        "outputId": "efd9954a-2ace-41d3-d5ec-034eadc873f2",
        "colab": {
          "base_uri": "https://localhost:8080/",
          "height": 53
        }
      },
      "source": [
        "image = x_train[4:5,:]\n",
        "print(image.shape)\n",
        "print(y_train[4])"
      ],
      "execution_count": 10,
      "outputs": [
        {
          "output_type": "stream",
          "text": [
            "(1, 784)\n",
            "[0. 0. 0. 0. 0. 0. 0. 0. 0. 1.]\n"
          ],
          "name": "stdout"
        }
      ]
    },
    {
      "cell_type": "code",
      "metadata": {
        "id": "1DFn6cUPzlSN",
        "colab_type": "code",
        "outputId": "ea1a9820-4cfc-42b7-ede4-3efb66950d42",
        "colab": {
          "base_uri": "https://localhost:8080/",
          "height": 53
        }
      },
      "source": [
        "print('label ',y_train[4]) \n",
        "  # Check how, since we are using eager execution\n",
        "  # we don't need a session to evaluate the node\n",
        "print(tf.argmax(tf.nn.softmax(mnist_model(image)), axis = 1))\n",
        "  # Of course the prediction are not right, since we have not yet\n",
        "  # trianed the model."
      ],
      "execution_count": 12,
      "outputs": [
        {
          "output_type": "stream",
          "text": [
            "label  [0. 0. 0. 0. 0. 0. 0. 0. 0. 1.]\n",
            "tf.Tensor([9], shape=(1,), dtype=int64)\n"
          ],
          "name": "stdout"
        }
      ]
    },
    {
      "cell_type": "code",
      "metadata": {
        "id": "Y5mdYFTd0oAm",
        "colab_type": "code",
        "outputId": "6101332a-acd2-478a-a333-70e7aeecefa8",
        "colab": {
          "base_uri": "https://localhost:8080/",
          "height": 448
        }
      },
      "source": [
        "plt.set_cmap('gray')\n",
        "plt.imshow(np.reshape(image,[28,28]))\n",
        "plt.axis('off')"
      ],
      "execution_count": 14,
      "outputs": [
        {
          "output_type": "execute_result",
          "data": {
            "text/plain": [
              "(-0.5, 27.5, 27.5, -0.5)"
            ]
          },
          "metadata": {
            "tags": []
          },
          "execution_count": 14
        },
        {
          "output_type": "display_data",
          "data": {
            "image/png": "[encoded data removed]",
            "text/plain": [
              "<Figure size 640x480 with 1 Axes>"
            ]
          },
          "metadata": {
            "tags": []
          }
        }
      ]
    },
    {
      "cell_type": "code",
      "metadata": {
        "id": "jvtNzhrOr5CL",
        "colab_type": "code",
        "outputId": "43a7a8ea-cbcb-41f5-c922-7c6979ca970c",
        "colab": {
          "base_uri": "https://localhost:8080/",
          "height": 557
        }
      },
      "source": [
        "fig = plt.figure (figsize = (10,6))\n",
        "plt.plot(np.arange(0,len(loss_history)),loss_history, label = \"Loss Function\", color = 'black')\n",
        "\n",
        "plt.xlabel ('Mini-Batch Index', fontsize = 16)\n",
        "plt.ylabel ('Loss Function', fontsize = 16)\n",
        "plt.tick_params(axis='both', which='major', labelsize=16)"
      ],
      "execution_count": 15,
      "outputs": [
        {
          "output_type": "display_data",
          "data": {
            "image/png": "[encoded data removed]",
            "text/plain": [
              "<Figure size 1000x600 with 1 Axes>"
            ]
          },
          "metadata": {
            "tags": []
          }
        }
      ]
    },
    {
      "cell_type": "markdown",
      "metadata": {
        "id": "VCT87uI_yK9_",
        "colab_type": "text"
      },
      "source": [
        "# MNIST with GPU acceleration"
      ]
    },
    {
      "cell_type": "code",
      "metadata": {
        "id": "4_kB48r1hqnt",
        "colab_type": "code",
        "outputId": "f85c315f-cb24-4347-890e-3e4a298b1f85",
        "colab": {
          "base_uri": "https://localhost:8080/",
          "height": 35
        }
      },
      "source": [
        "print(tf.test.is_gpu_available())"
      ],
      "execution_count": 16,
      "outputs": [
        {
          "output_type": "stream",
          "text": [
            "True\n"
          ],
          "name": "stdout"
        }
      ]
    },
    {
      "cell_type": "code",
      "metadata": {
        "id": "x6TxlcyLiOTG",
        "colab_type": "code",
        "outputId": "7f37fee8-cfd4-4580-b03f-568ba3665522",
        "colab": {
          "base_uri": "https://localhost:8080/",
          "height": 35
        }
      },
      "source": [
        "device_name = tf.test.gpu_device_name()\n",
        "if device_name != '/device:GPU:0':\n",
        "  raise SystemError('GPU device not found. Check the notebook settings.')\n",
        "print('Found GPU at: {}'.format(device_name))"
      ],
      "execution_count": 17,
      "outputs": [
        {
          "output_type": "stream",
          "text": [
            "Found GPU at: /device:GPU:0\n"
          ],
          "name": "stdout"
        }
      ]
    },
    {
      "cell_type": "code",
      "metadata": {
        "id": "IFFJylCviWOn",
        "colab_type": "code",
        "colab": {}
      },
      "source": [
        "\n",
        "config = tf.ConfigProto()\n",
        "config.gpu_options.allow_growth = True\n",
        "sess = tf.Session(config=config)\n"
      ],
      "execution_count": 0,
      "outputs": []
    },
    {
      "cell_type": "markdown",
      "metadata": {
        "id": "Tiipq2RfuKdH",
        "colab_type": "text"
      },
      "source": [
        "The following code have tensorflow operations that are placed on a GPU. At the moment the argmax has a bug and therefore has been placed on a CPU. A GPU make the code much faster than when using only a CPU (check above for the CPU only version)"
      ]
    },
    {
      "cell_type": "code",
      "metadata": {
        "id": "aSz-0_EVhma7",
        "colab_type": "code",
        "outputId": "d0e81e13-5758-4f98-b312-4410d9106e10",
        "colab": {
          "base_uri": "https://localhost:8080/",
          "height": 413
        }
      },
      "source": [
        "%%time\n",
        "\n",
        "for i in range(10): # Loop for the Epochs\n",
        "  print (\"\\nEpoch:\", i)\n",
        "  \n",
        "  for (batch, (images, labels)) in enumerate(dataset.take(60000)): # Loop for the mini-batches\n",
        "    if batch % 100 == 0:\n",
        "      print('.', end='')\n",
        "    labels = tf.cast(labels, dtype = tf.int64)\n",
        "    \n",
        "    \n",
        "    with tf.GradientTape() as tape:\n",
        "      \n",
        "      with tf.device('/gpu:0'):    \n",
        "        logits = mnist_model(images, training=True)\n",
        "\n",
        "      with tf.device('/cpu:0'):\n",
        "        tgmax = tf.argmax(labels, axis = 1, output_type=tf.int64)\n",
        "        \n",
        "      with tf.device('/gpu:0'):  \n",
        "        loss_value = tf.losses.sparse_softmax_cross_entropy(tgmax, logits)\n",
        "\n",
        "        loss_history.append(loss_value.numpy())\n",
        "        grads = tape.gradient(loss_value, mnist_model.variables)\n",
        "        optimizer.apply_gradients(zip(grads, mnist_model.variables),\n",
        "                                    global_step=tf.train.get_or_create_global_step())"
      ],
      "execution_count": 19,
      "outputs": [
        {
          "output_type": "stream",
          "text": [
            "\n",
            "Epoch: 0\n",
            "..........\n",
            "Epoch: 1\n",
            "..........\n",
            "Epoch: 2\n",
            "..........\n",
            "Epoch: 3\n",
            "..........\n",
            "Epoch: 4\n",
            "..........\n",
            "Epoch: 5\n",
            "..........\n",
            "Epoch: 6\n",
            "..........\n",
            "Epoch: 7\n",
            "..........\n",
            "Epoch: 8\n",
            "..........\n",
            "Epoch: 9\n",
            "..........CPU times: user 1min 25s, sys: 3.41 s, total: 1min 28s\n",
            "Wall time: 1min 26s\n"
          ],
          "name": "stdout"
        }
      ]
    }
  ]
}